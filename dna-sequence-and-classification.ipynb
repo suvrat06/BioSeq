{
 "cells": [
  {
   "cell_type": "code",
   "execution_count": 1,
   "id": "9f728711",
   "metadata": {
    "_cell_guid": "b1076dfc-b9ad-4769-8c92-a6c4dae69d19",
    "_uuid": "8f2839f25d086af736a60e9eeb907d3b93b6e0e5",
    "execution": {
     "iopub.execute_input": "2022-07-26T11:45:41.406751Z",
     "iopub.status.busy": "2022-07-26T11:45:41.405352Z",
     "iopub.status.idle": "2022-07-26T11:45:41.422075Z",
     "shell.execute_reply": "2022-07-26T11:45:41.420840Z"
    },
    "papermill": {
     "duration": 0.029391,
     "end_time": "2022-07-26T11:45:41.424914",
     "exception": false,
     "start_time": "2022-07-26T11:45:41.395523",
     "status": "completed"
    },
    "tags": []
   },
   "outputs": [],
   "source": [
    "#Importing Necessary Libraries\n",
    "import numpy as np\n",
    "import pandas as pd\n",
    "import matplotlib.pyplot as plt\n",
    "%matplotlib inline  "
   ]
  },
  {
   "cell_type": "code",
   "execution_count": 2,
   "id": "0282e9b4",
   "metadata": {
    "execution": {
     "iopub.execute_input": "2022-07-26T11:45:41.441828Z",
     "iopub.status.busy": "2022-07-26T11:45:41.440963Z",
     "iopub.status.idle": "2022-07-26T11:45:41.580651Z",
     "shell.execute_reply": "2022-07-26T11:45:41.579510Z"
    },
    "papermill": {
     "duration": 0.152249,
     "end_time": "2022-07-26T11:45:41.584347",
     "exception": false,
     "start_time": "2022-07-26T11:45:41.432098",
     "status": "completed"
    },
    "tags": []
   },
   "outputs": [
    {
     "data": {
      "text/html": [
       "<div>\n",
       "<style scoped>\n",
       "    .dataframe tbody tr th:only-of-type {\n",
       "        vertical-align: middle;\n",
       "    }\n",
       "\n",
       "    .dataframe tbody tr th {\n",
       "        vertical-align: top;\n",
       "    }\n",
       "\n",
       "    .dataframe thead th {\n",
       "        text-align: right;\n",
       "    }\n",
       "</style>\n",
       "<table border=\"1\" class=\"dataframe\">\n",
       "  <thead>\n",
       "    <tr style=\"text-align: right;\">\n",
       "      <th></th>\n",
       "      <th>sequence</th>\n",
       "      <th>class</th>\n",
       "    </tr>\n",
       "  </thead>\n",
       "  <tbody>\n",
       "    <tr>\n",
       "      <th>0</th>\n",
       "      <td>ATGCCCCAACTAAATACTACCGTATGGCCCACCATAATTACCCCCA...</td>\n",
       "      <td>4</td>\n",
       "    </tr>\n",
       "    <tr>\n",
       "      <th>1</th>\n",
       "      <td>ATGAACGAAAATCTGTTCGCTTCATTCATTGCCCCCACAATCCTAG...</td>\n",
       "      <td>4</td>\n",
       "    </tr>\n",
       "    <tr>\n",
       "      <th>2</th>\n",
       "      <td>ATGTGTGGCATTTGGGCGCTGTTTGGCAGTGATGATTGCCTTTCTG...</td>\n",
       "      <td>3</td>\n",
       "    </tr>\n",
       "    <tr>\n",
       "      <th>3</th>\n",
       "      <td>ATGTGTGGCATTTGGGCGCTGTTTGGCAGTGATGATTGCCTTTCTG...</td>\n",
       "      <td>3</td>\n",
       "    </tr>\n",
       "    <tr>\n",
       "      <th>4</th>\n",
       "      <td>ATGCAACAGCATTTTGAATTTGAATACCAGACCAAAGTGGATGGTG...</td>\n",
       "      <td>3</td>\n",
       "    </tr>\n",
       "  </tbody>\n",
       "</table>\n",
       "</div>"
      ],
      "text/plain": [
       "                                            sequence  class\n",
       "0  ATGCCCCAACTAAATACTACCGTATGGCCCACCATAATTACCCCCA...      4\n",
       "1  ATGAACGAAAATCTGTTCGCTTCATTCATTGCCCCCACAATCCTAG...      4\n",
       "2  ATGTGTGGCATTTGGGCGCTGTTTGGCAGTGATGATTGCCTTTCTG...      3\n",
       "3  ATGTGTGGCATTTGGGCGCTGTTTGGCAGTGATGATTGCCTTTCTG...      3\n",
       "4  ATGCAACAGCATTTTGAATTTGAATACCAGACCAAAGTGGATGGTG...      3"
      ]
     },
     "execution_count": 2,
     "metadata": {},
     "output_type": "execute_result"
    }
   ],
   "source": [
    "#Reading the Dataset (Human)\n",
    "human_data = pd.read_table('../input/dna-sequence-dataset/human.txt')\n",
    "human_data.head()"
   ]
  },
  {
   "cell_type": "code",
   "execution_count": 3,
   "id": "afe3c402",
   "metadata": {
    "execution": {
     "iopub.execute_input": "2022-07-26T11:45:41.601389Z",
     "iopub.status.busy": "2022-07-26T11:45:41.600913Z",
     "iopub.status.idle": "2022-07-26T11:45:41.703095Z",
     "shell.execute_reply": "2022-07-26T11:45:41.702153Z"
    },
    "papermill": {
     "duration": 0.113532,
     "end_time": "2022-07-26T11:45:41.705290",
     "exception": false,
     "start_time": "2022-07-26T11:45:41.591758",
     "status": "completed"
    },
    "tags": []
   },
   "outputs": [
    {
     "data": {
      "text/html": [
       "<div>\n",
       "<style scoped>\n",
       "    .dataframe tbody tr th:only-of-type {\n",
       "        vertical-align: middle;\n",
       "    }\n",
       "\n",
       "    .dataframe tbody tr th {\n",
       "        vertical-align: top;\n",
       "    }\n",
       "\n",
       "    .dataframe thead th {\n",
       "        text-align: right;\n",
       "    }\n",
       "</style>\n",
       "<table border=\"1\" class=\"dataframe\">\n",
       "  <thead>\n",
       "    <tr style=\"text-align: right;\">\n",
       "      <th></th>\n",
       "      <th>sequence</th>\n",
       "      <th>class</th>\n",
       "    </tr>\n",
       "  </thead>\n",
       "  <tbody>\n",
       "    <tr>\n",
       "      <th>0</th>\n",
       "      <td>ATGCCCCAACTAAATACCGCCGTATGACCCACCATAATTACCCCCA...</td>\n",
       "      <td>4</td>\n",
       "    </tr>\n",
       "    <tr>\n",
       "      <th>1</th>\n",
       "      <td>ATGAACGAAAATCTATTCGCTTCATTCGCTGCCCCCACAATCCTAG...</td>\n",
       "      <td>4</td>\n",
       "    </tr>\n",
       "    <tr>\n",
       "      <th>2</th>\n",
       "      <td>ATGGCCTCGCGCTGGTGGCGGTGGCGACGCGGCTGCTCCTGGAGGC...</td>\n",
       "      <td>4</td>\n",
       "    </tr>\n",
       "    <tr>\n",
       "      <th>3</th>\n",
       "      <td>ATGGCCTCGCGCTGGTGGCGGTGGCGACGCGGCTGCTCCTGGAGGC...</td>\n",
       "      <td>4</td>\n",
       "    </tr>\n",
       "    <tr>\n",
       "      <th>4</th>\n",
       "      <td>ATGGGCAGCGCCAGCCCGGGTCTGAGCAGCGTGTCCCCCAGCCACC...</td>\n",
       "      <td>6</td>\n",
       "    </tr>\n",
       "  </tbody>\n",
       "</table>\n",
       "</div>"
      ],
      "text/plain": [
       "                                            sequence  class\n",
       "0  ATGCCCCAACTAAATACCGCCGTATGACCCACCATAATTACCCCCA...      4\n",
       "1  ATGAACGAAAATCTATTCGCTTCATTCGCTGCCCCCACAATCCTAG...      4\n",
       "2  ATGGCCTCGCGCTGGTGGCGGTGGCGACGCGGCTGCTCCTGGAGGC...      4\n",
       "3  ATGGCCTCGCGCTGGTGGCGGTGGCGACGCGGCTGCTCCTGGAGGC...      4\n",
       "4  ATGGGCAGCGCCAGCCCGGGTCTGAGCAGCGTGTCCCCCAGCCACC...      6"
      ]
     },
     "execution_count": 3,
     "metadata": {},
     "output_type": "execute_result"
    }
   ],
   "source": [
    "#Reading the Dataset (Chimpanzee)\n",
    "chimpanzee_data = pd.read_table('../input/dna-sequence-dataset/chimpanzee.txt')\n",
    "chimpanzee_data.head()"
   ]
  },
  {
   "cell_type": "code",
   "execution_count": 4,
   "id": "06737330",
   "metadata": {
    "execution": {
     "iopub.execute_input": "2022-07-26T11:45:41.723204Z",
     "iopub.status.busy": "2022-07-26T11:45:41.722118Z",
     "iopub.status.idle": "2022-07-26T11:45:41.776550Z",
     "shell.execute_reply": "2022-07-26T11:45:41.775629Z"
    },
    "papermill": {
     "duration": 0.065706,
     "end_time": "2022-07-26T11:45:41.778771",
     "exception": false,
     "start_time": "2022-07-26T11:45:41.713065",
     "status": "completed"
    },
    "tags": []
   },
   "outputs": [
    {
     "data": {
      "text/html": [
       "<div>\n",
       "<style scoped>\n",
       "    .dataframe tbody tr th:only-of-type {\n",
       "        vertical-align: middle;\n",
       "    }\n",
       "\n",
       "    .dataframe tbody tr th {\n",
       "        vertical-align: top;\n",
       "    }\n",
       "\n",
       "    .dataframe thead th {\n",
       "        text-align: right;\n",
       "    }\n",
       "</style>\n",
       "<table border=\"1\" class=\"dataframe\">\n",
       "  <thead>\n",
       "    <tr style=\"text-align: right;\">\n",
       "      <th></th>\n",
       "      <th>sequence</th>\n",
       "      <th>class</th>\n",
       "    </tr>\n",
       "  </thead>\n",
       "  <tbody>\n",
       "    <tr>\n",
       "      <th>0</th>\n",
       "      <td>ATGCCACAGCTAGATACATCCACCTGATTTATTATAATCTTTTCAA...</td>\n",
       "      <td>4</td>\n",
       "    </tr>\n",
       "    <tr>\n",
       "      <th>1</th>\n",
       "      <td>ATGAACGAAAATCTATTCGCTTCTTTCGCTGCCCCCTCAATAATAG...</td>\n",
       "      <td>4</td>\n",
       "    </tr>\n",
       "    <tr>\n",
       "      <th>2</th>\n",
       "      <td>ATGGAAACACCCTTCTACGGCGATGAGGCGCTGAGCGGCCTGGGCG...</td>\n",
       "      <td>6</td>\n",
       "    </tr>\n",
       "    <tr>\n",
       "      <th>3</th>\n",
       "      <td>ATGTGCACTAAAATGGAACAGCCCTTCTACCACGACGACTCATACG...</td>\n",
       "      <td>6</td>\n",
       "    </tr>\n",
       "    <tr>\n",
       "      <th>4</th>\n",
       "      <td>ATGAGCCGGCAGCTAAACAGAAGCCAGAACTGCTCCTTCAGTGACG...</td>\n",
       "      <td>0</td>\n",
       "    </tr>\n",
       "  </tbody>\n",
       "</table>\n",
       "</div>"
      ],
      "text/plain": [
       "                                            sequence  class\n",
       "0  ATGCCACAGCTAGATACATCCACCTGATTTATTATAATCTTTTCAA...      4\n",
       "1  ATGAACGAAAATCTATTCGCTTCTTTCGCTGCCCCCTCAATAATAG...      4\n",
       "2  ATGGAAACACCCTTCTACGGCGATGAGGCGCTGAGCGGCCTGGGCG...      6\n",
       "3  ATGTGCACTAAAATGGAACAGCCCTTCTACCACGACGACTCATACG...      6\n",
       "4  ATGAGCCGGCAGCTAAACAGAAGCCAGAACTGCTCCTTCAGTGACG...      0"
      ]
     },
     "execution_count": 4,
     "metadata": {},
     "output_type": "execute_result"
    }
   ],
   "source": [
    "#Reading the Dataset (Dog)\n",
    "dog_data = pd.read_table('../input/dna-sequence-dataset/dog.txt')\n",
    "dog_data.head()"
   ]
  },
  {
   "cell_type": "code",
   "execution_count": 5,
   "id": "6027f0b0",
   "metadata": {
    "execution": {
     "iopub.execute_input": "2022-07-26T11:45:41.797186Z",
     "iopub.status.busy": "2022-07-26T11:45:41.796489Z",
     "iopub.status.idle": "2022-07-26T11:45:41.802181Z",
     "shell.execute_reply": "2022-07-26T11:45:41.801315Z"
    },
    "papermill": {
     "duration": 0.017418,
     "end_time": "2022-07-26T11:45:41.804179",
     "exception": false,
     "start_time": "2022-07-26T11:45:41.786761",
     "status": "completed"
    },
    "tags": []
   },
   "outputs": [],
   "source": [
    "# function to convert sequence strings into k-mer words, default size = 6 (hexamer words)\n",
    "def getKmers(sequence, size=6):\n",
    "    return [sequence[x:x+size].lower() for x in range(len(sequence) - size + 1)]"
   ]
  },
  {
   "cell_type": "code",
   "execution_count": 6,
   "id": "8c43c995",
   "metadata": {
    "execution": {
     "iopub.execute_input": "2022-07-26T11:45:41.822695Z",
     "iopub.status.busy": "2022-07-26T11:45:41.821863Z",
     "iopub.status.idle": "2022-07-26T11:45:45.039135Z",
     "shell.execute_reply": "2022-07-26T11:45:45.038186Z"
    },
    "papermill": {
     "duration": 3.229884,
     "end_time": "2022-07-26T11:45:45.041877",
     "exception": false,
     "start_time": "2022-07-26T11:45:41.811993",
     "status": "completed"
    },
    "tags": []
   },
   "outputs": [],
   "source": [
    "#Converting the DNA Sequences into K=Mers (6-Mers here) so as to apply NLP techniques\n",
    "\n",
    "human_data['words'] = human_data.apply(lambda x: getKmers(x['sequence']), axis=1)\n",
    "human_data = human_data.drop('sequence', axis=1)\n",
    "chimpanzee_data['words'] = chimpanzee_data.apply(lambda x: getKmers(x['sequence']), axis=1)\n",
    "chimpanzee_data = chimpanzee_data.drop('sequence', axis=1)\n",
    "dog_data['words'] = dog_data.apply(lambda x: getKmers(x['sequence']), axis=1)\n",
    "dog_data = dog_data.drop('sequence', axis=1)"
   ]
  },
  {
   "cell_type": "code",
   "execution_count": 7,
   "id": "08e313c0",
   "metadata": {
    "execution": {
     "iopub.execute_input": "2022-07-26T11:45:45.058402Z",
     "iopub.status.busy": "2022-07-26T11:45:45.058049Z",
     "iopub.status.idle": "2022-07-26T11:45:45.073789Z",
     "shell.execute_reply": "2022-07-26T11:45:45.072728Z"
    },
    "papermill": {
     "duration": 0.026843,
     "end_time": "2022-07-26T11:45:45.076316",
     "exception": false,
     "start_time": "2022-07-26T11:45:45.049473",
     "status": "completed"
    },
    "tags": []
   },
   "outputs": [
    {
     "data": {
      "text/html": [
       "<div>\n",
       "<style scoped>\n",
       "    .dataframe tbody tr th:only-of-type {\n",
       "        vertical-align: middle;\n",
       "    }\n",
       "\n",
       "    .dataframe tbody tr th {\n",
       "        vertical-align: top;\n",
       "    }\n",
       "\n",
       "    .dataframe thead th {\n",
       "        text-align: right;\n",
       "    }\n",
       "</style>\n",
       "<table border=\"1\" class=\"dataframe\">\n",
       "  <thead>\n",
       "    <tr style=\"text-align: right;\">\n",
       "      <th></th>\n",
       "      <th>class</th>\n",
       "      <th>words</th>\n",
       "    </tr>\n",
       "  </thead>\n",
       "  <tbody>\n",
       "    <tr>\n",
       "      <th>0</th>\n",
       "      <td>4</td>\n",
       "      <td>[atgccc, tgcccc, gcccca, ccccaa, cccaac, ccaac...</td>\n",
       "    </tr>\n",
       "    <tr>\n",
       "      <th>1</th>\n",
       "      <td>4</td>\n",
       "      <td>[atgaac, tgaacg, gaacga, aacgaa, acgaaa, cgaaa...</td>\n",
       "    </tr>\n",
       "    <tr>\n",
       "      <th>2</th>\n",
       "      <td>3</td>\n",
       "      <td>[atgtgt, tgtgtg, gtgtgg, tgtggc, gtggca, tggca...</td>\n",
       "    </tr>\n",
       "    <tr>\n",
       "      <th>3</th>\n",
       "      <td>3</td>\n",
       "      <td>[atgtgt, tgtgtg, gtgtgg, tgtggc, gtggca, tggca...</td>\n",
       "    </tr>\n",
       "    <tr>\n",
       "      <th>4</th>\n",
       "      <td>3</td>\n",
       "      <td>[atgcaa, tgcaac, gcaaca, caacag, aacagc, acagc...</td>\n",
       "    </tr>\n",
       "  </tbody>\n",
       "</table>\n",
       "</div>"
      ],
      "text/plain": [
       "   class                                              words\n",
       "0      4  [atgccc, tgcccc, gcccca, ccccaa, cccaac, ccaac...\n",
       "1      4  [atgaac, tgaacg, gaacga, aacgaa, acgaaa, cgaaa...\n",
       "2      3  [atgtgt, tgtgtg, gtgtgg, tgtggc, gtggca, tggca...\n",
       "3      3  [atgtgt, tgtgtg, gtgtgg, tgtggc, gtggca, tggca...\n",
       "4      3  [atgcaa, tgcaac, gcaaca, caacag, aacagc, acagc..."
      ]
     },
     "execution_count": 7,
     "metadata": {},
     "output_type": "execute_result"
    }
   ],
   "source": [
    "human_data.head()"
   ]
  },
  {
   "cell_type": "code",
   "execution_count": 8,
   "id": "d6ca6f50",
   "metadata": {
    "execution": {
     "iopub.execute_input": "2022-07-26T11:45:45.092993Z",
     "iopub.status.busy": "2022-07-26T11:45:45.092606Z",
     "iopub.status.idle": "2022-07-26T11:45:45.107671Z",
     "shell.execute_reply": "2022-07-26T11:45:45.106637Z"
    },
    "papermill": {
     "duration": 0.026333,
     "end_time": "2022-07-26T11:45:45.110144",
     "exception": false,
     "start_time": "2022-07-26T11:45:45.083811",
     "status": "completed"
    },
    "tags": []
   },
   "outputs": [
    {
     "data": {
      "text/html": [
       "<div>\n",
       "<style scoped>\n",
       "    .dataframe tbody tr th:only-of-type {\n",
       "        vertical-align: middle;\n",
       "    }\n",
       "\n",
       "    .dataframe tbody tr th {\n",
       "        vertical-align: top;\n",
       "    }\n",
       "\n",
       "    .dataframe thead th {\n",
       "        text-align: right;\n",
       "    }\n",
       "</style>\n",
       "<table border=\"1\" class=\"dataframe\">\n",
       "  <thead>\n",
       "    <tr style=\"text-align: right;\">\n",
       "      <th></th>\n",
       "      <th>class</th>\n",
       "      <th>words</th>\n",
       "    </tr>\n",
       "  </thead>\n",
       "  <tbody>\n",
       "    <tr>\n",
       "      <th>0</th>\n",
       "      <td>4</td>\n",
       "      <td>[atgccc, tgcccc, gcccca, ccccaa, cccaac, ccaac...</td>\n",
       "    </tr>\n",
       "    <tr>\n",
       "      <th>1</th>\n",
       "      <td>4</td>\n",
       "      <td>[atgaac, tgaacg, gaacga, aacgaa, acgaaa, cgaaa...</td>\n",
       "    </tr>\n",
       "    <tr>\n",
       "      <th>2</th>\n",
       "      <td>4</td>\n",
       "      <td>[atggcc, tggcct, ggcctc, gcctcg, cctcgc, ctcgc...</td>\n",
       "    </tr>\n",
       "    <tr>\n",
       "      <th>3</th>\n",
       "      <td>4</td>\n",
       "      <td>[atggcc, tggcct, ggcctc, gcctcg, cctcgc, ctcgc...</td>\n",
       "    </tr>\n",
       "    <tr>\n",
       "      <th>4</th>\n",
       "      <td>6</td>\n",
       "      <td>[atgggc, tgggca, gggcag, ggcagc, gcagcg, cagcg...</td>\n",
       "    </tr>\n",
       "  </tbody>\n",
       "</table>\n",
       "</div>"
      ],
      "text/plain": [
       "   class                                              words\n",
       "0      4  [atgccc, tgcccc, gcccca, ccccaa, cccaac, ccaac...\n",
       "1      4  [atgaac, tgaacg, gaacga, aacgaa, acgaaa, cgaaa...\n",
       "2      4  [atggcc, tggcct, ggcctc, gcctcg, cctcgc, ctcgc...\n",
       "3      4  [atggcc, tggcct, ggcctc, gcctcg, cctcgc, ctcgc...\n",
       "4      6  [atgggc, tgggca, gggcag, ggcagc, gcagcg, cagcg..."
      ]
     },
     "execution_count": 8,
     "metadata": {},
     "output_type": "execute_result"
    }
   ],
   "source": [
    "chimpanzee_data.head()"
   ]
  },
  {
   "cell_type": "code",
   "execution_count": 9,
   "id": "307b2050",
   "metadata": {
    "execution": {
     "iopub.execute_input": "2022-07-26T11:45:45.128170Z",
     "iopub.status.busy": "2022-07-26T11:45:45.127477Z",
     "iopub.status.idle": "2022-07-26T11:45:45.143443Z",
     "shell.execute_reply": "2022-07-26T11:45:45.141970Z"
    },
    "papermill": {
     "duration": 0.027531,
     "end_time": "2022-07-26T11:45:45.145937",
     "exception": false,
     "start_time": "2022-07-26T11:45:45.118406",
     "status": "completed"
    },
    "tags": []
   },
   "outputs": [
    {
     "data": {
      "text/html": [
       "<div>\n",
       "<style scoped>\n",
       "    .dataframe tbody tr th:only-of-type {\n",
       "        vertical-align: middle;\n",
       "    }\n",
       "\n",
       "    .dataframe tbody tr th {\n",
       "        vertical-align: top;\n",
       "    }\n",
       "\n",
       "    .dataframe thead th {\n",
       "        text-align: right;\n",
       "    }\n",
       "</style>\n",
       "<table border=\"1\" class=\"dataframe\">\n",
       "  <thead>\n",
       "    <tr style=\"text-align: right;\">\n",
       "      <th></th>\n",
       "      <th>class</th>\n",
       "      <th>words</th>\n",
       "    </tr>\n",
       "  </thead>\n",
       "  <tbody>\n",
       "    <tr>\n",
       "      <th>0</th>\n",
       "      <td>4</td>\n",
       "      <td>[atgcca, tgccac, gccaca, ccacag, cacagc, acagc...</td>\n",
       "    </tr>\n",
       "    <tr>\n",
       "      <th>1</th>\n",
       "      <td>4</td>\n",
       "      <td>[atgaac, tgaacg, gaacga, aacgaa, acgaaa, cgaaa...</td>\n",
       "    </tr>\n",
       "    <tr>\n",
       "      <th>2</th>\n",
       "      <td>6</td>\n",
       "      <td>[atggaa, tggaaa, ggaaac, gaaaca, aaacac, aacac...</td>\n",
       "    </tr>\n",
       "    <tr>\n",
       "      <th>3</th>\n",
       "      <td>6</td>\n",
       "      <td>[atgtgc, tgtgca, gtgcac, tgcact, gcacta, cacta...</td>\n",
       "    </tr>\n",
       "    <tr>\n",
       "      <th>4</th>\n",
       "      <td>0</td>\n",
       "      <td>[atgagc, tgagcc, gagccg, agccgg, gccggc, ccggc...</td>\n",
       "    </tr>\n",
       "  </tbody>\n",
       "</table>\n",
       "</div>"
      ],
      "text/plain": [
       "   class                                              words\n",
       "0      4  [atgcca, tgccac, gccaca, ccacag, cacagc, acagc...\n",
       "1      4  [atgaac, tgaacg, gaacga, aacgaa, acgaaa, cgaaa...\n",
       "2      6  [atggaa, tggaaa, ggaaac, gaaaca, aaacac, aacac...\n",
       "3      6  [atgtgc, tgtgca, gtgcac, tgcact, gcacta, cacta...\n",
       "4      0  [atgagc, tgagcc, gagccg, agccgg, gccggc, ccggc..."
      ]
     },
     "execution_count": 9,
     "metadata": {},
     "output_type": "execute_result"
    }
   ],
   "source": [
    "dog_data.head()"
   ]
  },
  {
   "cell_type": "code",
   "execution_count": 10,
   "id": "eb00d7fd",
   "metadata": {
    "execution": {
     "iopub.execute_input": "2022-07-26T11:45:45.163522Z",
     "iopub.status.busy": "2022-07-26T11:45:45.163164Z",
     "iopub.status.idle": "2022-07-26T11:45:45.795963Z",
     "shell.execute_reply": "2022-07-26T11:45:45.794791Z"
    },
    "papermill": {
     "duration": 0.644804,
     "end_time": "2022-07-26T11:45:45.798716",
     "exception": false,
     "start_time": "2022-07-26T11:45:45.153912",
     "status": "completed"
    },
    "tags": []
   },
   "outputs": [],
   "source": [
    "human_texts = list(human_data['words'])\n",
    "for i in range(len(human_texts)):\n",
    "    human_texts[i] = ' '.join(human_texts[i])\n",
    "y_data_human = human_data.iloc[:, 0].values     \n",
    "\n",
    "chimpanzee_texts = list(chimpanzee_data['words'])\n",
    "for i in range(len(chimpanzee_texts)):\n",
    "    chimpanzee_texts[i] = ' '.join(chimpanzee_texts[i])\n",
    "y_data_chimpanzee = chimpanzee_data.iloc[:, 0].values     \n",
    "\n",
    "dog_texts = list(dog_data['words'])\n",
    "for i in range(len(dog_texts)):\n",
    "    dog_texts[i] = ' '.join(dog_texts[i])\n",
    "y_data_dog = dog_data.iloc[:, 0].values      "
   ]
  },
  {
   "cell_type": "code",
   "execution_count": 11,
   "id": "b5be80c0",
   "metadata": {
    "execution": {
     "iopub.execute_input": "2022-07-26T11:45:45.816160Z",
     "iopub.status.busy": "2022-07-26T11:45:45.815792Z",
     "iopub.status.idle": "2022-07-26T11:45:45.822698Z",
     "shell.execute_reply": "2022-07-26T11:45:45.821666Z"
    },
    "papermill": {
     "duration": 0.018333,
     "end_time": "2022-07-26T11:45:45.825020",
     "exception": false,
     "start_time": "2022-07-26T11:45:45.806687",
     "status": "completed"
    },
    "tags": []
   },
   "outputs": [
    {
     "data": {
      "text/plain": [
       "'atgccc tgcccc gcccca ccccaa cccaac ccaact caacta aactaa actaaa ctaaat taaata aaatac aatact atacta tactac actacc ctaccg taccgt accgta ccgtat cgtatg gtatgg tatggc atggcc tggccc ggccca gcccac cccacc ccacca caccat accata ccataa cataat ataatt taatta aattac attacc ttaccc tacccc accccc ccccca ccccat cccata ccatac catact atactc tactcc actcct ctcctt tcctta ccttac cttaca ttacac tacact acacta cactat actatt ctattc tattcc attcct ttcctc tcctca cctcat ctcatc tcatca catcac atcacc tcaccc caccca acccaa cccaac ccaact caacta aactaa actaaa ctaaaa taaaaa aaaaat aaaata aaatat aatatt atatta tattaa attaaa ttaaac taaaca aaacac aacaca acacaa cacaaa acaaac caaact aaacta aactac actacc ctacca taccac accacc ccacct caccta acctac cctacc ctacct tacctc acctcc cctccc ctccct tccctc ccctca cctcac ctcacc tcacca caccaa accaaa ccaaag caaagc aaagcc aagccc agccca gcccat cccata ccataa cataaa ataaaa taaaaa aaaaat aaaata aaataa aataaa ataaaa taaaaa aaaaaa aaaaat aaaatt aaatta aattat attata ttataa tataac ataaca taacaa aacaaa acaaac caaacc aaaccc aaccct accctg ccctga cctgag ctgaga tgagaa gagaac agaacc gaacca aaccaa accaaa ccaaaa caaaat aaaatg aaatga aatgaa atgaac tgaacg gaacga aacgaa acgaaa cgaaaa gaaaat aaaatc aaatct aatctg atctgt tctgtt ctgttc tgttcg gttcgc ttcgct tcgctt cgcttc gcttca cttcat ttcatt tcattc cattca attcat ttcatt tcattg cattgc attgcc ttgccc tgcccc gccccc ccccca ccccac cccaca ccacaa cacaat acaatc caatcc aatcct atccta tcctag'"
      ]
     },
     "execution_count": 11,
     "metadata": {},
     "output_type": "execute_result"
    }
   ],
   "source": [
    "human_texts[0]"
   ]
  },
  {
   "cell_type": "code",
   "execution_count": 12,
   "id": "75347da5",
   "metadata": {
    "execution": {
     "iopub.execute_input": "2022-07-26T11:45:45.843003Z",
     "iopub.status.busy": "2022-07-26T11:45:45.842603Z",
     "iopub.status.idle": "2022-07-26T11:45:45.849358Z",
     "shell.execute_reply": "2022-07-26T11:45:45.848271Z"
    },
    "papermill": {
     "duration": 0.018375,
     "end_time": "2022-07-26T11:45:45.851670",
     "exception": false,
     "start_time": "2022-07-26T11:45:45.833295",
     "status": "completed"
    },
    "tags": []
   },
   "outputs": [
    {
     "data": {
      "text/plain": [
       "'atgccc tgcccc gcccca ccccaa cccaac ccaact caacta aactaa actaaa ctaaat taaata aaatac aatacc ataccg taccgc accgcc ccgccg cgccgt gccgta ccgtat cgtatg gtatga tatgac atgacc tgaccc gaccca acccac cccacc ccacca caccat accata ccataa cataat ataatt taatta aattac attacc ttaccc tacccc accccc ccccca ccccat cccata ccatac catact atactc tactcc actcct ctcctg tcctga cctgac ctgaca tgacac gacact acacta cactat actatt ctattt tatttc atttct tttctc ttctcg tctcgt ctcgtc tcgtca cgtcac gtcacc tcaccc caccca acccaa cccaac ccaact caacta aactaa actaaa ctaaaa taaaaa aaaaat aaaata aaatat aatatt atatta tattaa attaaa ttaaat taaatt aaattc aattca attcaa ttcaaa tcaaat caaatt aaatta aattac attacc ttacca taccat accatc ccatct catcta atctac tctacc ctaccc tacccc accccc cccccc ccccct cccctc ccctca cctcac ctcacc tcacca caccaa accaaa ccaaaa caaaac aaaacc aaaccc aaccca acccat cccata ccataa cataaa ataaaa taaaaa aaaaat aaaata aaataa aataaa ataaaa taaaaa aaaaaa aaaaac aaaact aaacta aactac actaca ctacaa tacaat acaata caataa aataaa ataaac taaacc aaaccc aaccct accctg ccctga cctgag ctgaga tgagaa gagaac agaacc gaacca aaccaa accaaa ccaaaa caaaat aaaatg aaatga aatgaa atgaac tgaacg gaacga aacgaa acgaaa cgaaaa gaaaat aaaatc aaatct aatcta atctat tctatt ctattc tattcg attcgc ttcgct tcgctt cgcttc gcttca cttcat ttcatt tcattc cattcg attcgc ttcgct tcgctg cgctgc gctgcc ctgccc tgcccc gccccc ccccca ccccac cccaca ccacaa cacaat acaatc caatcc aatcct atccta tcctag'"
      ]
     },
     "execution_count": 12,
     "metadata": {},
     "output_type": "execute_result"
    }
   ],
   "source": [
    "chimpanzee_texts[0]"
   ]
  },
  {
   "cell_type": "code",
   "execution_count": 13,
   "id": "497da7d5",
   "metadata": {
    "execution": {
     "iopub.execute_input": "2022-07-26T11:45:45.870057Z",
     "iopub.status.busy": "2022-07-26T11:45:45.869666Z",
     "iopub.status.idle": "2022-07-26T11:45:45.875936Z",
     "shell.execute_reply": "2022-07-26T11:45:45.874872Z"
    },
    "papermill": {
     "duration": 0.018171,
     "end_time": "2022-07-26T11:45:45.878479",
     "exception": false,
     "start_time": "2022-07-26T11:45:45.860308",
     "status": "completed"
    },
    "tags": []
   },
   "outputs": [
    {
     "data": {
      "text/plain": [
       "'atgcca tgccac gccaca ccacag cacagc acagct cagcta agctag gctaga ctagat tagata agatac gataca atacat tacatc acatcc catcca atccac tccacc ccacct cacctg acctga cctgat ctgatt tgattt gattta atttat tttatt ttatta tattat attata ttataa tataat ataatc taatct aatctt atcttt tctttt cttttc ttttca tttcaa ttcaat tcaata caatat aatatt atattt tatttc atttct tttctc ttctca tctcac ctcacc tcaccc caccct accctc ccctct cctctt ctcttc tcttca cttcat ttcatc tcatcc catcct atccta tcctat cctatt ctattt tatttc atttca tttcaa ttcaac tcaact caacta aactaa actaaa ctaaaa taaaaa aaaaat aaaatt aaattt aatttc atttca tttcaa ttcaaa tcaaat caaatc aaatca aatcac atcact tcacta cactac actact ctacta tactac actacc ctaccc taccca acccag cccaga ccagaa cagaaa agaaaa gaaaac aaaacc aaaccc aacccg acccga cccgat ccgata cgataa gataac ataacc taacca aaccaa accaaa ccaaat caaatc aaatct aatctg atctgc tctgct ctgcta tgctaa gctaaa ctaaaa taaaat aaaatt aaattg aattgc attgct ttgctg tgctgg gctggt ctggtc tggtca ggtcaa gtcaac tcaaca caacat aacata acataa cataat ataatc taatcc aatcct atcctt tccttg ccttga cttgag ttgaga tgagaa gagaaa agaaaa gaaaac aaaaca aaacaa aacaaa acaaat caaatg aaatga aatgaa atgaac tgaacg gaacga aacgaa acgaaa cgaaaa gaaaat aaaatc aaatct aatcta atctat tctatt ctattc tattcg attcgc ttcgct tcgctt cgcttc gcttct cttctt ttcttt tctttc ctttcg tttcgc ttcgct tcgctg cgctgc gctgcc ctgccc tgcccc gccccc ccccct cccctc ccctca cctcaa ctcaat tcaata caataa'"
      ]
     },
     "execution_count": 13,
     "metadata": {},
     "output_type": "execute_result"
    }
   ],
   "source": [
    "dog_texts[0]"
   ]
  },
  {
   "cell_type": "code",
   "execution_count": 14,
   "id": "e740a740",
   "metadata": {
    "execution": {
     "iopub.execute_input": "2022-07-26T11:45:45.897398Z",
     "iopub.status.busy": "2022-07-26T11:45:45.897029Z",
     "iopub.status.idle": "2022-07-26T11:46:09.193544Z",
     "shell.execute_reply": "2022-07-26T11:46:09.192233Z"
    },
    "papermill": {
     "duration": 23.30956,
     "end_time": "2022-07-26T11:46:09.196898",
     "exception": false,
     "start_time": "2022-07-26T11:45:45.887338",
     "status": "completed"
    },
    "tags": []
   },
   "outputs": [],
   "source": [
    "#Bag of Words Vectorization\n",
    "# Creating the Bag of Words model using CountVectorizer()\n",
    "# The n-gram size of 4 was previously determined by testing\n",
    "from sklearn.feature_extraction.text import CountVectorizer\n",
    "cv = CountVectorizer(ngram_range=(4,4))\n",
    "\n",
    "X_human = cv.fit_transform(human_texts)\n",
    "X_chimpanzee = cv.fit_transform(chimpanzee_texts)\n",
    "X_dog = cv.fit_transform(dog_texts)"
   ]
  },
  {
   "cell_type": "code",
   "execution_count": 15,
   "id": "31b331fe",
   "metadata": {
    "execution": {
     "iopub.execute_input": "2022-07-26T11:46:09.217787Z",
     "iopub.status.busy": "2022-07-26T11:46:09.216648Z",
     "iopub.status.idle": "2022-07-26T11:46:09.223781Z",
     "shell.execute_reply": "2022-07-26T11:46:09.222459Z"
    },
    "papermill": {
     "duration": 0.021513,
     "end_time": "2022-07-26T11:46:09.227242",
     "exception": false,
     "start_time": "2022-07-26T11:46:09.205729",
     "status": "completed"
    },
    "tags": []
   },
   "outputs": [
    {
     "name": "stdout",
     "output_type": "stream",
     "text": [
      "(4380, 232414)\n",
      "(1682, 229684)\n",
      "(820, 227149)\n"
     ]
    }
   ],
   "source": [
    "print(X_human.shape)\n",
    "print(X_chimpanzee.shape)\n",
    "print(X_dog.shape)"
   ]
  },
  {
   "cell_type": "code",
   "execution_count": 16,
   "id": "3432e2d9",
   "metadata": {
    "execution": {
     "iopub.execute_input": "2022-07-26T11:46:09.247524Z",
     "iopub.status.busy": "2022-07-26T11:46:09.247086Z",
     "iopub.status.idle": "2022-07-26T11:46:09.365134Z",
     "shell.execute_reply": "2022-07-26T11:46:09.363972Z"
    },
    "papermill": {
     "duration": 0.131374,
     "end_time": "2022-07-26T11:46:09.368031",
     "exception": false,
     "start_time": "2022-07-26T11:46:09.236657",
     "status": "completed"
    },
    "tags": []
   },
   "outputs": [],
   "source": [
    "#Train Test Split\n",
    "from sklearn.model_selection import train_test_split\n",
    "\n",
    "# Splitting the human dataset into the training set and test set\n",
    "X_train_h, X_test_h, y_train_h, y_test_h = train_test_split(X_human, y_data_human, test_size = 0.20, random_state=42)\n",
    "\n",
    "# Splitting the chimpanzee dataset into the training set and test set\n",
    "X_train_c, X_test_c, y_train_c, y_test_c = train_test_split(X_chimpanzee, y_data_chimpanzee, test_size = 0.20, random_state=42)\n",
    "\n",
    "# Splitting the dog dataset into the training set and test set\n",
    "X_train_d, X_test_d, y_train_d, y_test_d = train_test_split(X_dog, y_data_dog, test_size = 0.20, random_state=42)"
   ]
  },
  {
   "cell_type": "code",
   "execution_count": 17,
   "id": "49c45845",
   "metadata": {
    "execution": {
     "iopub.execute_input": "2022-07-26T11:46:09.387686Z",
     "iopub.status.busy": "2022-07-26T11:46:09.387318Z",
     "iopub.status.idle": "2022-07-26T11:46:09.820793Z",
     "shell.execute_reply": "2022-07-26T11:46:09.819473Z"
    },
    "papermill": {
     "duration": 0.446473,
     "end_time": "2022-07-26T11:46:09.823390",
     "exception": false,
     "start_time": "2022-07-26T11:46:09.376917",
     "status": "completed"
    },
    "tags": []
   },
   "outputs": [
    {
     "data": {
      "text/plain": [
       "MultinomialNB(alpha=0.1)"
      ]
     },
     "execution_count": 17,
     "metadata": {},
     "output_type": "execute_result"
    }
   ],
   "source": [
    "# Multinomial Naive Bayes Classifier \n",
    "# The alpha parameter was determined by grid search previously\n",
    "\n",
    "from sklearn.naive_bayes import MultinomialNB\n",
    "classifier_human = MultinomialNB(alpha=0.1)\n",
    "classifier_chimpanzee = MultinomialNB(alpha=0.1)\n",
    "classifier_dog = MultinomialNB(alpha=0.1)\n",
    "\n",
    "classifier_human.fit(X_train_h, y_train_h)\n",
    "classifier_chimpanzee.fit(X_train_c, y_train_c)\n",
    "classifier_dog.fit(X_train_d, y_train_d)"
   ]
  },
  {
   "cell_type": "code",
   "execution_count": 18,
   "id": "95a002fd",
   "metadata": {
    "execution": {
     "iopub.execute_input": "2022-07-26T11:46:09.843444Z",
     "iopub.status.busy": "2022-07-26T11:46:09.843039Z",
     "iopub.status.idle": "2022-07-26T11:46:09.904855Z",
     "shell.execute_reply": "2022-07-26T11:46:09.903505Z"
    },
    "papermill": {
     "duration": 0.075616,
     "end_time": "2022-07-26T11:46:09.907945",
     "exception": false,
     "start_time": "2022-07-26T11:46:09.832329",
     "status": "completed"
    },
    "tags": []
   },
   "outputs": [],
   "source": [
    "y_pred_human = classifier_human.predict(X_test_h)\n",
    "y_pred_chimpanzee = classifier_chimpanzee.predict(X_test_c)\n",
    "y_pred_dog = classifier_dog.predict(X_test_d)"
   ]
  },
  {
   "cell_type": "code",
   "execution_count": 19,
   "id": "5b7ec52b",
   "metadata": {
    "execution": {
     "iopub.execute_input": "2022-07-26T11:46:09.928805Z",
     "iopub.status.busy": "2022-07-26T11:46:09.927619Z",
     "iopub.status.idle": "2022-07-26T11:46:09.935028Z",
     "shell.execute_reply": "2022-07-26T11:46:09.933857Z"
    },
    "papermill": {
     "duration": 0.020549,
     "end_time": "2022-07-26T11:46:09.937610",
     "exception": false,
     "start_time": "2022-07-26T11:46:09.917061",
     "status": "completed"
    },
    "tags": []
   },
   "outputs": [],
   "source": [
    "#Checking Classifier's accuracy using Confusion Matrix\n",
    "from sklearn.metrics import accuracy_score, f1_score, precision_score, recall_score\n",
    "\n",
    "def get_metrics(y_test, y_predicted):\n",
    "    accuracy = accuracy_score(y_test, y_predicted)\n",
    "    precision = precision_score(y_test, y_predicted, average='weighted')\n",
    "    recall = recall_score(y_test, y_predicted, average='weighted')\n",
    "    f1 = f1_score(y_test, y_predicted, average='weighted')\n",
    "    return accuracy, precision, recall, f1\n"
   ]
  },
  {
   "cell_type": "code",
   "execution_count": 20,
   "id": "636c0f67",
   "metadata": {
    "execution": {
     "iopub.execute_input": "2022-07-26T11:46:09.957232Z",
     "iopub.status.busy": "2022-07-26T11:46:09.956749Z",
     "iopub.status.idle": "2022-07-26T11:46:09.997802Z",
     "shell.execute_reply": "2022-07-26T11:46:09.996663Z"
    },
    "papermill": {
     "duration": 0.053775,
     "end_time": "2022-07-26T11:46:10.000246",
     "exception": false,
     "start_time": "2022-07-26T11:46:09.946471",
     "status": "completed"
    },
    "tags": []
   },
   "outputs": [
    {
     "name": "stdout",
     "output_type": "stream",
     "text": [
      "Confusion matrix for Human Classifier\n",
      "\n",
      "Predicted   0    1   2    3    4   5    6\n",
      "Actual                                   \n",
      "0          99    0   0    0    1   0    2\n",
      "1           0  104   0    0    0   0    2\n",
      "2           0    0  78    0    0   0    0\n",
      "3           0    0   0  124    0   0    1\n",
      "4           1    0   0    0  143   0    5\n",
      "5           0    0   0    0    0  51    0\n",
      "6           1    0   0    1    0   0  263\n",
      "accuracy = 0.984 \n",
      "precision = 0.984 \n",
      "recall = 0.984 \n",
      "f1 = 0.984\n"
     ]
    }
   ],
   "source": [
    "#Evaluation of Human Classifier\n",
    "print(\"Confusion matrix for Human Classifier\\n\")\n",
    "print(pd.crosstab(pd.Series(y_test_h, name='Actual'), pd.Series(y_pred_human, name='Predicted')))\n",
    "\n",
    "accuracy, precision, recall, f1 = get_metrics(y_test_h, y_pred_human)\n",
    "print(\"accuracy = %.3f \\nprecision = %.3f \\nrecall = %.3f \\nf1 = %.3f\" % (accuracy, precision, recall, f1))"
   ]
  },
  {
   "cell_type": "code",
   "execution_count": 21,
   "id": "c60b5930",
   "metadata": {
    "execution": {
     "iopub.execute_input": "2022-07-26T11:46:10.020064Z",
     "iopub.status.busy": "2022-07-26T11:46:10.019631Z",
     "iopub.status.idle": "2022-07-26T11:46:10.048719Z",
     "shell.execute_reply": "2022-07-26T11:46:10.046766Z"
    },
    "papermill": {
     "duration": 0.04279,
     "end_time": "2022-07-26T11:46:10.051762",
     "exception": false,
     "start_time": "2022-07-26T11:46:10.008972",
     "status": "completed"
    },
    "tags": []
   },
   "outputs": [
    {
     "name": "stdout",
     "output_type": "stream",
     "text": [
      "Confusion matrix for Chimpanzee Classifier\n",
      "\n",
      "Predicted   0   1   2   3   4   5    6\n",
      "Actual                                \n",
      "0          27   0   0   0   0   0    1\n",
      "1           0  38   0   0   0   0    1\n",
      "2           0   0  25   0   0   0    2\n",
      "3           0   0   0  41   0   0    2\n",
      "4           2   1   0   3  40   0    6\n",
      "5           3   0   0   0   3  19    4\n",
      "6           0   0   0   1   0   0  118\n",
      "accuracy = 0.914 \n",
      "precision = 0.920 \n",
      "recall = 0.914 \n",
      "f1 = 0.911\n"
     ]
    }
   ],
   "source": [
    "#Evaluation of Chimpanzee Classifier\n",
    "print(\"Confusion matrix for Chimpanzee Classifier\\n\")\n",
    "print(pd.crosstab(pd.Series(y_test_c, name='Actual'), pd.Series(y_pred_chimpanzee, name='Predicted')))\n",
    "\n",
    "accuracy, precision, recall, f1 = get_metrics(y_test_c, y_pred_chimpanzee)\n",
    "print(\"accuracy = %.3f \\nprecision = %.3f \\nrecall = %.3f \\nf1 = %.3f\" % (accuracy, precision, recall, f1))"
   ]
  },
  {
   "cell_type": "code",
   "execution_count": 22,
   "id": "9dbcd1a1",
   "metadata": {
    "execution": {
     "iopub.execute_input": "2022-07-26T11:46:10.073098Z",
     "iopub.status.busy": "2022-07-26T11:46:10.072650Z",
     "iopub.status.idle": "2022-07-26T11:46:10.100408Z",
     "shell.execute_reply": "2022-07-26T11:46:10.098544Z"
    },
    "papermill": {
     "duration": 0.042142,
     "end_time": "2022-07-26T11:46:10.103498",
     "exception": false,
     "start_time": "2022-07-26T11:46:10.061356",
     "status": "completed"
    },
    "tags": []
   },
   "outputs": [
    {
     "name": "stdout",
     "output_type": "stream",
     "text": [
      "Confusion matrix for Chimpanzee Classifier\n",
      "\n",
      "Predicted   0   1   2  3  4  5   6\n",
      "Actual                            \n",
      "0          21   0   0  0  0  0   6\n",
      "1           2  12   0  0  0  0   5\n",
      "2           1   0  10  0  0  0   3\n",
      "3           1   0   0  8  0  0   7\n",
      "4           3   0   0  2  7  0  11\n",
      "5           2   0   0  1  0  5   5\n",
      "6           0   0   0  1  0  0  51\n",
      "accuracy = 0.695 \n",
      "precision = 0.785 \n",
      "recall = 0.695 \n",
      "f1 = 0.678\n"
     ]
    }
   ],
   "source": [
    "#Evaluation for Dog Classifer\n",
    "print(\"Confusion matrix for Chimpanzee Classifier\\n\")\n",
    "print(pd.crosstab(pd.Series(y_test_d, name='Actual'), pd.Series(y_pred_dog, name='Predicted')))\n",
    "\n",
    "accuracy, precision, recall, f1 = get_metrics(y_test_d, y_pred_dog)\n",
    "print(\"accuracy = %.3f \\nprecision = %.3f \\nrecall = %.3f \\nf1 = %.3f\" % (accuracy, precision, recall, f1))"
   ]
  },
  {
   "cell_type": "code",
   "execution_count": null,
   "id": "74aa05a9",
   "metadata": {
    "papermill": {
     "duration": 0.009082,
     "end_time": "2022-07-26T11:46:10.121542",
     "exception": false,
     "start_time": "2022-07-26T11:46:10.112460",
     "status": "completed"
    },
    "tags": []
   },
   "outputs": [],
   "source": []
  }
 ],
 "metadata": {
  "kernelspec": {
   "display_name": "Python 3",
   "language": "python",
   "name": "python3"
  },
  "language_info": {
   "codemirror_mode": {
    "name": "ipython",
    "version": 3
   },
   "file_extension": ".py",
   "mimetype": "text/x-python",
   "name": "python",
   "nbconvert_exporter": "python",
   "pygments_lexer": "ipython3",
   "version": "3.7.12"
  },
  "papermill": {
   "default_parameters": {},
   "duration": 39.794753,
   "end_time": "2022-07-26T11:46:11.254440",
   "environment_variables": {},
   "exception": null,
   "input_path": "__notebook__.ipynb",
   "output_path": "__notebook__.ipynb",
   "parameters": {},
   "start_time": "2022-07-26T11:45:31.459687",
   "version": "2.3.4"
  }
 },
 "nbformat": 4,
 "nbformat_minor": 5
}
